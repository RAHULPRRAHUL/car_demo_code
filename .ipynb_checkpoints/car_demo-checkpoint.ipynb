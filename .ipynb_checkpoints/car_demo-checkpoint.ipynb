{
 "cells": [
  {
   "cell_type": "code",
   "execution_count": 1,
   "metadata": {
    "colab": {},
    "colab_type": "code",
    "id": "vs72Wvu5PYj4"
   },
   "outputs": [],
   "source": [
    "import os\n",
    "import sys\n",
    "import json\n",
    "import numpy as np\n",
    "import time\n",
    "from PIL import Image, ImageDraw\n",
    "import os\n",
    "import sys\n",
    "import random\n",
    "import math\n",
    "import numpy as np\n",
    "import skimage.io\n",
    "import matplotlib\n",
    "import matplotlib.pyplot as plt"
   ]
  },
  {
   "cell_type": "code",
   "execution_count": 2,
   "metadata": {},
   "outputs": [],
   "source": [
    "#!pip install \"git+https://github.com/philferriere/cocoapi.git#egg=pycocotools&subdirectory=PythonAPI\""
   ]
  },
  {
   "cell_type": "code",
   "execution_count": 3,
   "metadata": {},
   "outputs": [
    {
     "name": "stderr",
     "output_type": "stream",
     "text": [
      "Using TensorFlow backend.\n"
     ]
    }
   ],
   "source": [
    "from samples.coco import coco"
   ]
  },
  {
   "cell_type": "code",
   "execution_count": 4,
   "metadata": {
    "colab": {
     "base_uri": "https://localhost:8080/",
     "height": 51
    },
    "colab_type": "code",
    "id": "-ACpeRViPtSX",
    "outputId": "ebca8b9f-ea2f-4024-8364-efff69c0bfd2"
   },
   "outputs": [
    {
     "name": "stdout",
     "output_type": "stream",
     "text": [
      "D:/segmentation/car_segmentation\n"
     ]
    }
   ],
   "source": [
    "ROOT_DIR = 'D:/segmentation/car_segmentation'\n",
    "print(ROOT_DIR)"
   ]
  },
  {
   "cell_type": "code",
   "execution_count": 5,
   "metadata": {
    "colab": {
     "base_uri": "https://localhost:8080/",
     "height": 34
    },
    "colab_type": "code",
    "id": "jLdAItoMPYkC",
    "outputId": "1ab5df0a-b54a-443e-a879-814608aca102"
   },
   "outputs": [],
   "source": [
    "sys.path.append(ROOT_DIR) \n",
    "from mrcnn.config import Config\n",
    "import mrcnn.utils as utils\n",
    "from mrcnn import visualize\n",
    "import mrcnn.model as modellib"
   ]
  },
  {
   "cell_type": "markdown",
   "metadata": {
    "colab_type": "text",
    "id": "jis0ll-4PYkG"
   },
   "source": [
    "## Use Pre-trained coco model."
   ]
  },
  {
   "cell_type": "code",
   "execution_count": 6,
   "metadata": {
    "colab": {},
    "colab_type": "code",
    "id": "pkODb8x5PYkI"
   },
   "outputs": [],
   "source": [
    "# Directory to save logs and trained model\n",
    "MODEL_DIR = os.path.join(ROOT_DIR, \"logs\")\n",
    "\n",
    "# Local path to trained weights file\n",
    "COCO_MODEL_PATH = os.path.join(ROOT_DIR, \"mask_rcnn_coco.h5\")\n",
    "\n",
    "# Download COCO trained weights from Releases if needed\n",
    "if not os.path.exists(COCO_MODEL_PATH):\n",
    "    utils.download_trained_weights(COCO_MODEL_PATH)"
   ]
  },
  {
   "cell_type": "code",
   "execution_count": 7,
   "metadata": {},
   "outputs": [
    {
     "name": "stdout",
     "output_type": "stream",
     "text": [
      "\n",
      "Configurations:\n",
      "BACKBONE                       resnet101\n",
      "BACKBONE_STRIDES               [4, 8, 16, 32, 64]\n",
      "BATCH_SIZE                     1\n",
      "BBOX_STD_DEV                   [0.1 0.1 0.2 0.2]\n",
      "COMPUTE_BACKBONE_SHAPE         None\n",
      "DETECTION_MAX_INSTANCES        100\n",
      "DETECTION_MIN_CONFIDENCE       0.7\n",
      "DETECTION_NMS_THRESHOLD        0.3\n",
      "FPN_CLASSIF_FC_LAYERS_SIZE     1024\n",
      "GPU_COUNT                      1\n",
      "GRADIENT_CLIP_NORM             5.0\n",
      "IMAGES_PER_GPU                 1\n",
      "IMAGE_CHANNEL_COUNT            3\n",
      "IMAGE_MAX_DIM                  1024\n",
      "IMAGE_META_SIZE                93\n",
      "IMAGE_MIN_DIM                  800\n",
      "IMAGE_MIN_SCALE                0\n",
      "IMAGE_RESIZE_MODE              square\n",
      "IMAGE_SHAPE                    [1024 1024    3]\n",
      "LEARNING_MOMENTUM              0.9\n",
      "LEARNING_RATE                  0.001\n",
      "LOSS_WEIGHTS                   {'rpn_class_loss': 1.0, 'rpn_bbox_loss': 1.0, 'mrcnn_class_loss': 1.0, 'mrcnn_bbox_loss': 1.0, 'mrcnn_mask_loss': 1.0}\n",
      "MASK_POOL_SIZE                 14\n",
      "MASK_SHAPE                     [28, 28]\n",
      "MAX_GT_INSTANCES               100\n",
      "MEAN_PIXEL                     [123.7 116.8 103.9]\n",
      "MINI_MASK_SHAPE                (56, 56)\n",
      "NAME                           coco\n",
      "NUM_CLASSES                    81\n",
      "POOL_SIZE                      7\n",
      "POST_NMS_ROIS_INFERENCE        1000\n",
      "POST_NMS_ROIS_TRAINING         2000\n",
      "PRE_NMS_LIMIT                  6000\n",
      "ROI_POSITIVE_RATIO             0.33\n",
      "RPN_ANCHOR_RATIOS              [0.5, 1, 2]\n",
      "RPN_ANCHOR_SCALES              (32, 64, 128, 256, 512)\n",
      "RPN_ANCHOR_STRIDE              1\n",
      "RPN_BBOX_STD_DEV               [0.1 0.1 0.2 0.2]\n",
      "RPN_NMS_THRESHOLD              0.7\n",
      "RPN_TRAIN_ANCHORS_PER_IMAGE    256\n",
      "STEPS_PER_EPOCH                1000\n",
      "TOP_DOWN_PYRAMID_SIZE          256\n",
      "TRAIN_BN                       False\n",
      "TRAIN_ROIS_PER_IMAGE           200\n",
      "USE_MINI_MASK                  True\n",
      "USE_RPN_ROIS                   True\n",
      "VALIDATION_STEPS               50\n",
      "WEIGHT_DECAY                   0.0001\n",
      "\n",
      "\n"
     ]
    }
   ],
   "source": [
    "class InferenceConfig(coco.CocoConfig):\n",
    "    # Set batch size to 1 since we'll be running inference on\n",
    "    # one image at a time. Batch size = GPU_COUNT * IMAGES_PER_GPU\n",
    "    GPU_COUNT = 1\n",
    "    IMAGES_PER_GPU = 1\n",
    "\n",
    "config = InferenceConfig()\n",
    "config.display()"
   ]
  },
  {
   "cell_type": "code",
   "execution_count": 8,
   "metadata": {},
   "outputs": [
    {
     "name": "stdout",
     "output_type": "stream",
     "text": [
      "WARNING:tensorflow:From c:\\users\\patek\\anaconda3\\envs\\py36\\lib\\site-packages\\tensorflow\\python\\framework\\op_def_library.py:263: colocate_with (from tensorflow.python.framework.ops) is deprecated and will be removed in a future version.\n",
      "Instructions for updating:\n",
      "Colocations handled automatically by placer.\n",
      "WARNING:tensorflow:From D:\\segmentation\\car_segmentation\\mrcnn\\model.py:773: to_float (from tensorflow.python.ops.math_ops) is deprecated and will be removed in a future version.\n",
      "Instructions for updating:\n",
      "Use tf.cast instead.\n"
     ]
    }
   ],
   "source": [
    "# Create model object in inference mode.\n",
    "model = modellib.MaskRCNN(mode=\"inference\", model_dir=MODEL_DIR, config=config)\n",
    "\n",
    "# Load weights trained on MS-COCO\n",
    "model.load_weights(COCO_MODEL_PATH, by_name=True)"
   ]
  },
  {
   "cell_type": "code",
   "execution_count": 9,
   "metadata": {},
   "outputs": [],
   "source": [
    "# COCO Class names\n",
    "# Index of the class in the list is its ID. For example, to get ID of\n",
    "# the teddy bear class, use: class_names.index('teddy bear')\n",
    "class_names = ['BG', 'person', 'bicycle', 'car', 'motorcycle', 'airplane',\n",
    "               'bus', 'train', 'truck', 'boat', 'traffic light',\n",
    "               'fire hydrant', 'stop sign', 'parking meter', 'bench', 'bird',\n",
    "               'cat', 'dog', 'horse', 'sheep', 'cow', 'elephant', 'bear',\n",
    "               'zebra', 'giraffe', 'backpack', 'umbrella', 'handbag', 'tie',\n",
    "               'suitcase', 'frisbee', 'skis', 'snowboard', 'sports ball',\n",
    "               'kite', 'baseball bat', 'baseball glove', 'skateboard',\n",
    "               'surfboard', 'tennis racket', 'bottle', 'wine glass', 'cup',\n",
    "               'fork', 'knife', 'spoon', 'bowl', 'banana', 'apple',\n",
    "               'sandwich', 'orange', 'broccoli', 'carrot', 'hot dog', 'pizza',\n",
    "               'donut', 'cake', 'chair', 'couch', 'potted plant', 'bed',\n",
    "               'dining table', 'toilet', 'tv', 'laptop', 'mouse', 'remote',\n",
    "               'keyboard', 'cell phone', 'microwave', 'oven', 'toaster',\n",
    "               'sink', 'refrigerator', 'book', 'clock', 'vase', 'scissors',\n",
    "               'teddy bear', 'hair drier', 'toothbrush']"
   ]
  },
  {
   "cell_type": "code",
   "execution_count": 10,
   "metadata": {},
   "outputs": [
    {
     "name": "stdout",
     "output_type": "stream",
     "text": [
      "Image_path : D:\\segmentation\\car_segmentation\\images\\two-cars-in-driveway-gettyimages-1200x630.jpg\n",
      "Processing 1 images\n",
      "image                    shape: (630, 1200, 3)        min:    0.00000  max:  255.00000  uint8\n",
      "molded_images            shape: (1, 1024, 1024, 3)    min: -123.70000  max:  151.10000  float64\n",
      "image_metas              shape: (1, 93)               min:    0.00000  max: 1200.00000  float64\n",
      "anchors                  shape: (1, 261888, 4)        min:   -0.35390  max:    1.29134  float32\n",
      "colors [(0.0, 1.0, 1.0), (1.0, 0.0, 0.0)]\n",
      "(0.0, 1.0, 1.0) col_in\n",
      "(1.0, 0.0, 0.0) col_in\n",
      "my out color [(0.0, 1.0, 1.0), (0.0, 1.0, 1.0)]\n"
     ]
    }
   ],
   "source": [
    "# save image\n",
    "\n",
    "import matplotlib.pyplot as plt\n",
    "import skimage\n",
    "from IPython.display import Image, display\n",
    "import os\n",
    "import numpy as np\n",
    "\n",
    "folder_path = 'D:\\\\segmentation\\\\car_segmentation\\\\images\\\\'\n",
    "img_name = 'two-cars-in-driveway-gettyimages-1200x630.jpg'\n",
    "\n",
    "image_path = folder_path + img_name\n",
    "img = skimage.io.imread(image_path)    \n",
    "print('Image_path :',image_path)\n",
    "img_name = image_path.split('\\\\')[-1]\n",
    "img_arr = np.array(img)\n",
    "results = model.detect([img_arr], verbose=1)\n",
    "r = results[0]\n",
    "visualize.save_image(image=img, save_dir = 'D:\\\\segmentation\\\\car_segmentation\\\\output\\\\',image_name=img_name,boxes= r['rois'], masks =r['masks'],\n",
    "                     class_ids= r['class_ids'],scores = r['scores'],class_names=class_names,filter_classs_names = ['car'], mode=3)"
   ]
  },
  {
   "cell_type": "code",
   "execution_count": null,
   "metadata": {},
   "outputs": [],
   "source": []
  },
  {
   "cell_type": "code",
   "execution_count": null,
   "metadata": {},
   "outputs": [],
   "source": []
  },
  {
   "cell_type": "code",
   "execution_count": null,
   "metadata": {},
   "outputs": [],
   "source": []
  },
  {
   "cell_type": "code",
   "execution_count": null,
   "metadata": {},
   "outputs": [],
   "source": []
  },
  {
   "cell_type": "code",
   "execution_count": 12,
   "metadata": {},
   "outputs": [
    {
     "name": "stdout",
     "output_type": "stream",
     "text": [
      "Image_path : D:\\segmentation\\car_segmentation\\images\\12283150_12d37e6389_z.jpg\n",
      "Processing 1 images\n",
      "image                    shape: (375, 500, 3)         min:    0.00000  max:  255.00000  uint8\n",
      "molded_images            shape: (1, 1024, 1024, 3)    min: -123.70000  max:  150.10000  float64\n",
      "image_metas              shape: (1, 93)               min:    0.00000  max: 1024.00000  float64\n",
      "anchors                  shape: (1, 261888, 4)        min:   -0.35390  max:    1.29134  float32\n",
      "colors [(0.6153846153846154, 1.0, 0.0), (0.15384615384615374, 1.0, 0.0), (0.0, 0.3076923076923075, 1.0), (1.0, 0.0, 0.4615384615384617), (0.6153846153846159, 0.0, 1.0), (0.0, 1.0, 0.30769230769230793), (0.0, 1.0, 0.7692307692307692), (1.0, 0.46153846153846156, 0.0), (1.0, 0.0, 0.9230769230769234), (0.1538461538461533, 0.0, 1.0), (0.0, 0.7692307692307692, 1.0), (1.0, 0.9230769230769231, 0.0), (1.0, 0.0, 0.0)]\n",
      "(0.6153846153846154, 1.0, 0.0) col_in\n",
      "(0.15384615384615374, 1.0, 0.0) col_in\n",
      "(0.0, 0.3076923076923075, 1.0) col_in\n",
      "(1.0, 0.0, 0.4615384615384617) col_in\n",
      "(0.6153846153846159, 0.0, 1.0) col_in\n",
      "(0.0, 1.0, 0.30769230769230793) col_in\n",
      "(0.0, 1.0, 0.7692307692307692) col_in\n",
      "(1.0, 0.46153846153846156, 0.0) col_in\n",
      "(1.0, 0.0, 0.9230769230769234) col_in\n",
      "(0.1538461538461533, 0.0, 1.0) col_in\n",
      "(0.0, 0.7692307692307692, 1.0) col_in\n",
      "(1.0, 0.9230769230769231, 0.0) col_in\n",
      "(1.0, 0.0, 0.0) col_in\n",
      "my out color [(0.0, 1.0, 1.0), (0.0, 1.0, 1.0), (0.0, 1.0, 1.0), (0.0, 1.0, 1.0), (0.0, 1.0, 1.0), (0.0, 1.0, 1.0), (0.0, 1.0, 1.0), (0.0, 1.0, 1.0), (0.0, 1.0, 1.0), (0.0, 1.0, 1.0), (0.0, 1.0, 1.0), (0.0, 1.0, 1.0), (0.0, 1.0, 1.0)]\n",
      "Image_path : D:\\segmentation\\car_segmentation\\images\\15-Fastest-Sports-Cars-To-Ever-Come-Out-Of-Germany-1.png\n",
      "Processing 1 images\n",
      "image                    shape: (628, 1200, 3)        min:    0.00000  max:  255.00000  uint8\n",
      "molded_images            shape: (1, 1024, 1024, 3)    min: -123.70000  max:  145.10000  float64\n",
      "image_metas              shape: (1, 93)               min:    0.00000  max: 1200.00000  float64\n",
      "anchors                  shape: (1, 261888, 4)        min:   -0.35390  max:    1.29134  float32\n",
      "colors [(1.0, 0.0, 0.0)]\n",
      "(1.0, 0.0, 0.0) col_in\n",
      "my out color [(0.0, 1.0, 1.0)]\n",
      "Image_path : D:\\segmentation\\car_segmentation\\images\\234.jpg\n",
      "Processing 1 images\n",
      "image                    shape: (194, 259, 3)         min:    0.00000  max:  255.00000  uint8\n",
      "molded_images            shape: (1, 1024, 1024, 3)    min: -123.70000  max:  151.10000  float64\n",
      "image_metas              shape: (1, 93)               min:    0.00000  max: 1024.00000  float64\n",
      "anchors                  shape: (1, 261888, 4)        min:   -0.35390  max:    1.29134  float32\n",
      "\n",
      "*** No instances in image 234.jpg to draw *** \n",
      "\n",
      "Image_path : D:\\segmentation\\car_segmentation\\images\\demo.png\n",
      "Processing 1 images\n",
      "image                    shape: (628, 1200, 3)        min:    0.00000  max:  255.00000  uint8\n",
      "molded_images            shape: (1, 1024, 1024, 3)    min: -123.70000  max:  145.10000  float64\n",
      "image_metas              shape: (1, 93)               min:    0.00000  max: 1200.00000  float64\n",
      "anchors                  shape: (1, 261888, 4)        min:   -0.35390  max:    1.29134  float32\n",
      "colors [(1.0, 0.0, 0.0)]\n",
      "(1.0, 0.0, 0.0) col_in\n",
      "my out color [(0.0, 1.0, 1.0)]\n",
      "Image_path : D:\\segmentation\\car_segmentation\\images\\main.jpg\n",
      "Processing 1 images\n",
      "image                    shape: (472, 585, 3)         min:    0.00000  max:  255.00000  uint8\n",
      "molded_images            shape: (1, 1024, 1024, 3)    min: -123.70000  max:  151.10000  float64\n",
      "image_metas              shape: (1, 93)               min:    0.00000  max: 1024.00000  float64\n",
      "anchors                  shape: (1, 261888, 4)        min:   -0.35390  max:    1.29134  float32\n",
      "colors [(1.0, 0.0, 0.0)]\n",
      "(1.0, 0.0, 0.0) col_in\n",
      "my out color [(0.0, 1.0, 1.0)]\n",
      "Image_path : D:\\segmentation\\car_segmentation\\images\\mainoio.jpg\n",
      "Processing 1 images\n",
      "image                    shape: (183, 275, 3)         min:    0.00000  max:  255.00000  uint8\n",
      "molded_images            shape: (1, 1024, 1024, 3)    min: -123.70000  max:  137.20000  float64\n",
      "image_metas              shape: (1, 93)               min:    0.00000  max: 1024.00000  float64\n",
      "anchors                  shape: (1, 261888, 4)        min:   -0.35390  max:    1.29134  float32\n",
      "colors [(1.0, 0.0, 0.0)]\n",
      "(1.0, 0.0, 0.0) col_in\n",
      "my out color [(0.0, 1.0, 1.0)]\n",
      "Image_path : D:\\segmentation\\car_segmentation\\images\\two-cars-in-driveway-gettyimages-1200x630.jpg\n",
      "Processing 1 images\n",
      "image                    shape: (630, 1200, 3)        min:    0.00000  max:  255.00000  uint8\n",
      "molded_images            shape: (1, 1024, 1024, 3)    min: -123.70000  max:  151.10000  float64\n",
      "image_metas              shape: (1, 93)               min:    0.00000  max: 1200.00000  float64\n",
      "anchors                  shape: (1, 261888, 4)        min:   -0.35390  max:    1.29134  float32\n",
      "colors [(1.0, 0.0, 0.0), (0.0, 1.0, 1.0)]\n",
      "(1.0, 0.0, 0.0) col_in\n",
      "(0.0, 1.0, 1.0) col_in\n",
      "my out color [(0.0, 1.0, 1.0), (0.0, 1.0, 1.0)]\n"
     ]
    }
   ],
   "source": [
    "# save image\n",
    "\n",
    "import matplotlib.pyplot as plt\n",
    "import skimage\n",
    "from IPython.display import Image, display\n",
    "import os\n",
    "import numpy as np\n",
    "real_test_dir = 'D:\\\\segmentation\\\\car_segmentation\\\\images\\\\'\n",
    "image_paths = []\n",
    "for filename in os.listdir(real_test_dir):\n",
    "    if os.path.splitext(filename)[1].lower() in ['.png', '.jpg', '.jpeg']:\n",
    "        image_paths.append(os.path.join(real_test_dir, filename))\n",
    "\n",
    "for image_path in image_paths:\n",
    "    img = skimage.io.imread(image_path)    \n",
    "    print('Image_path :',image_path)\n",
    "    img_name = image_path.split('\\\\')[-1]\n",
    "    img_arr = np.array(img)\n",
    "    results = model.detect([img_arr], verbose=1)\n",
    "    r = results[0]\n",
    "    visualize.save_image(image=img, save_dir = 'D:\\\\segmentation\\\\car_segmentation\\\\output\\\\',image_name=img_name,boxes= r['rois'], masks =r['masks'],\n",
    "                         class_ids= r['class_ids'],scores = r['scores'],class_names=class_names,filter_classs_names = ['car'], mode=3)"
   ]
  },
  {
   "cell_type": "code",
   "execution_count": null,
   "metadata": {},
   "outputs": [],
   "source": []
  },
  {
   "cell_type": "code",
   "execution_count": 13,
   "metadata": {},
   "outputs": [],
   "source": [
    "import cv2\n",
    "folder_path = 'D:\\\\segmentation\\\\car_segmentation\\\\output\\\\'\n",
    "filepath = 'two-cars-in-driveway-gettyimages-1200x630.jpg'\n",
    "fullpath = folder_path + filepath \n",
    "image = cv2.imread(fullpath,0)\n",
    "# Window name in which image is displayed\n",
    "window_name = 'image'\n",
    "cv2.imshow(window_name, image)\n",
    "cv2.waitKey(0) \n",
    "cv2.destroyAllWindows() \n",
    "\n",
    " \n",
    "         \n",
    "ret,thresh1 = cv2.threshold(image,50,255,cv2.THRESH_BINARY)\n",
    "\n",
    "\n",
    "window_name = 'image'\n",
    "cv2.imshow(window_name, thresh1)\n",
    "cv2.waitKey(0) \n",
    "cv2.destroyAllWindows() "
   ]
  },
  {
   "cell_type": "code",
   "execution_count": null,
   "metadata": {},
   "outputs": [],
   "source": []
  },
  {
   "cell_type": "code",
   "execution_count": null,
   "metadata": {},
   "outputs": [],
   "source": []
  },
  {
   "cell_type": "code",
   "execution_count": null,
   "metadata": {},
   "outputs": [],
   "source": []
  },
  {
   "cell_type": "code",
   "execution_count": null,
   "metadata": {},
   "outputs": [],
   "source": []
  },
  {
   "cell_type": "code",
   "execution_count": null,
   "metadata": {},
   "outputs": [],
   "source": []
  },
  {
   "cell_type": "code",
   "execution_count": null,
   "metadata": {},
   "outputs": [],
   "source": []
  },
  {
   "cell_type": "code",
   "execution_count": null,
   "metadata": {},
   "outputs": [],
   "source": []
  },
  {
   "cell_type": "code",
   "execution_count": null,
   "metadata": {},
   "outputs": [],
   "source": []
  },
  {
   "cell_type": "code",
   "execution_count": null,
   "metadata": {},
   "outputs": [],
   "source": []
  },
  {
   "cell_type": "code",
   "execution_count": null,
   "metadata": {},
   "outputs": [],
   "source": []
  },
  {
   "cell_type": "code",
   "execution_count": null,
   "metadata": {},
   "outputs": [],
   "source": []
  },
  {
   "cell_type": "code",
   "execution_count": null,
   "metadata": {},
   "outputs": [],
   "source": []
  },
  {
   "cell_type": "code",
   "execution_count": null,
   "metadata": {},
   "outputs": [],
   "source": []
  },
  {
   "cell_type": "code",
   "execution_count": null,
   "metadata": {},
   "outputs": [],
   "source": []
  },
  {
   "cell_type": "code",
   "execution_count": null,
   "metadata": {},
   "outputs": [],
   "source": []
  },
  {
   "cell_type": "code",
   "execution_count": null,
   "metadata": {},
   "outputs": [],
   "source": []
  },
  {
   "cell_type": "code",
   "execution_count": null,
   "metadata": {},
   "outputs": [],
   "source": []
  },
  {
   "cell_type": "code",
   "execution_count": null,
   "metadata": {},
   "outputs": [],
   "source": []
  },
  {
   "cell_type": "code",
   "execution_count": null,
   "metadata": {},
   "outputs": [],
   "source": []
  },
  {
   "cell_type": "code",
   "execution_count": null,
   "metadata": {},
   "outputs": [],
   "source": []
  },
  {
   "cell_type": "code",
   "execution_count": null,
   "metadata": {},
   "outputs": [],
   "source": []
  },
  {
   "cell_type": "code",
   "execution_count": null,
   "metadata": {},
   "outputs": [],
   "source": []
  },
  {
   "cell_type": "code",
   "execution_count": null,
   "metadata": {},
   "outputs": [],
   "source": [
    "# import matplotlib\n",
    "# matplotlib.use('TkAgg')\n",
    "# import matplotlib.pyplot as plt"
   ]
  },
  {
   "cell_type": "code",
   "execution_count": null,
   "metadata": {},
   "outputs": [],
   "source": [
    "# img_name = 'D:/segmentation/car_segmentation/images/demo.png'\n",
    "# image = skimage.io.imread(img_name)  \n",
    "# results = model.detect([image], verbose=1)\n",
    "\n",
    "# # Visualize results\n",
    "# r = results[0]\n",
    "# # visualize.display_instances(image, r['rois'], r['masks'], r['class_ids'], \n",
    "# #                             class_names, r['scores'])"
   ]
  },
  {
   "cell_type": "markdown",
   "metadata": {},
   "source": [
    "# working display"
   ]
  },
  {
   "cell_type": "code",
   "execution_count": null,
   "metadata": {},
   "outputs": [],
   "source": [
    "# img_name = 'D:/segmentation/car_segmentation/images/demo.png'\n",
    "# image = skimage.io.imread(img_name)  \n",
    "# results = model.detect([image], verbose=1)\n",
    "\n",
    "# # Visualize results\n",
    "# r = results[0]\n",
    "# visualize.display_instances(image, r['rois'], r['masks'], r['class_ids'], \n",
    "#                             class_names, r['scores'])"
   ]
  },
  {
   "cell_type": "code",
   "execution_count": null,
   "metadata": {},
   "outputs": [],
   "source": []
  },
  {
   "cell_type": "code",
   "execution_count": null,
   "metadata": {},
   "outputs": [],
   "source": []
  },
  {
   "cell_type": "code",
   "execution_count": null,
   "metadata": {},
   "outputs": [],
   "source": []
  },
  {
   "cell_type": "code",
   "execution_count": null,
   "metadata": {},
   "outputs": [],
   "source": []
  },
  {
   "cell_type": "code",
   "execution_count": null,
   "metadata": {},
   "outputs": [],
   "source": [
    "#working"
   ]
  },
  {
   "cell_type": "code",
   "execution_count": null,
   "metadata": {},
   "outputs": [],
   "source": [
    "# # save image\n",
    "\n",
    "# import matplotlib.pyplot as plt\n",
    "# import skimage\n",
    "# from IPython.display import Image, display\n",
    "# import os\n",
    "# import numpy as np\n",
    "\n",
    "# folder_path = 'D:\\\\segmentation\\\\car_segmentation\\\\images\\\\'\n",
    "# img_name = 'two-cars-in-driveway-gettyimages-1200x630.jpg'\n",
    "\n",
    "# image_path = folder_path + img_name\n",
    "# img = skimage.io.imread(image_path)    \n",
    "# print('Image_path :',image_path)\n",
    "# img_name = image_path.split('\\\\')[-1]\n",
    "# img_arr = np.array(img)\n",
    "# results = model.detect([img_arr], verbose=1)\n",
    "# r = results[0]\n",
    "# visualize.save_image(image=img, save_dir = 'D:\\\\segmentation\\\\car_segmentation\\\\output\\\\',image_name=img_name,boxes= r['rois'], masks =r['masks'],\n",
    "#                      class_ids= r['class_ids'],scores = r['scores'],class_names=class_names,filter_classs_names = ['car'], scores_thresh=0.9,mode=3)"
   ]
  },
  {
   "cell_type": "code",
   "execution_count": null,
   "metadata": {},
   "outputs": [],
   "source": []
  },
  {
   "cell_type": "code",
   "execution_count": null,
   "metadata": {},
   "outputs": [],
   "source": []
  },
  {
   "cell_type": "code",
   "execution_count": null,
   "metadata": {},
   "outputs": [],
   "source": []
  }
 ],
 "metadata": {
  "accelerator": "GPU",
  "colab": {
   "collapsed_sections": [],
   "name": "bone_train_test.ipynb",
   "provenance": [],
   "version": "0.3.2"
  },
  "kernelspec": {
   "display_name": "Python 3",
   "language": "python",
   "name": "python3"
  },
  "language_info": {
   "codemirror_mode": {
    "name": "ipython",
    "version": 3
   },
   "file_extension": ".py",
   "mimetype": "text/x-python",
   "name": "python",
   "nbconvert_exporter": "python",
   "pygments_lexer": "ipython3",
   "version": "3.6.10"
  }
 },
 "nbformat": 4,
 "nbformat_minor": 1
}
